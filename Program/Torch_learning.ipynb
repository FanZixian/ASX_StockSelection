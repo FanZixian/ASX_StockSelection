{
 "cells": [
  {
   "cell_type": "code",
   "execution_count": 73,
   "metadata": {},
   "outputs": [],
   "source": [
    "from __future__ import print_function\n",
    "import torch\n",
    "from torch import tensor"
   ]
  },
  {
   "attachments": {},
   "cell_type": "markdown",
   "metadata": {},
   "source": [
    "# Tensor"
   ]
  },
  {
   "cell_type": "code",
   "execution_count": 74,
   "metadata": {},
   "outputs": [
    {
     "name": "stdout",
     "output_type": "stream",
     "text": [
      "tensor([[9.2755e-39, 9.1837e-39, 9.3674e-39],\n",
      "        [1.0745e-38, 1.0653e-38, 9.5510e-39],\n",
      "        [1.0561e-38, 1.0194e-38, 1.1112e-38],\n",
      "        [1.0561e-38, 9.9184e-39, 1.0653e-38],\n",
      "        [4.1327e-39, 1.0194e-38, 1.0469e-38]])\n"
     ]
    }
   ],
   "source": [
    "x = torch.empty(5, 3)\n",
    "print(x)"
   ]
  },
  {
   "cell_type": "code",
   "execution_count": 75,
   "metadata": {},
   "outputs": [
    {
     "name": "stdout",
     "output_type": "stream",
     "text": [
      "tensor([[0.8359, 0.7447, 0.9789],\n",
      "        [0.6049, 0.1758, 0.4272],\n",
      "        [0.9741, 0.5034, 0.8283],\n",
      "        [0.6615, 0.7841, 0.2948],\n",
      "        [0.9955, 0.7324, 0.5644]])\n"
     ]
    }
   ],
   "source": [
    "x = torch.rand(5, 3)\n",
    "print(x)"
   ]
  },
  {
   "cell_type": "code",
   "execution_count": 76,
   "metadata": {},
   "outputs": [
    {
     "name": "stdout",
     "output_type": "stream",
     "text": [
      "tensor([[0, 0, 0],\n",
      "        [0, 0, 0],\n",
      "        [0, 0, 0],\n",
      "        [0, 0, 0],\n",
      "        [0, 0, 0]])\n"
     ]
    }
   ],
   "source": [
    "x = torch.zeros(5, 3, dtype=torch.long)\n",
    "print(x)"
   ]
  },
  {
   "cell_type": "code",
   "execution_count": 77,
   "metadata": {},
   "outputs": [
    {
     "name": "stdout",
     "output_type": "stream",
     "text": [
      "tensor([5.5000, 3.0000])\n"
     ]
    }
   ],
   "source": [
    "x = torch.tensor([5.5, 3])\n",
    "print(x)"
   ]
  },
  {
   "cell_type": "code",
   "execution_count": 78,
   "metadata": {},
   "outputs": [
    {
     "name": "stdout",
     "output_type": "stream",
     "text": [
      "tensor([[1., 1., 1.],\n",
      "        [1., 1., 1.],\n",
      "        [1., 1., 1.],\n",
      "        [1., 1., 1.],\n",
      "        [1., 1., 1.]], dtype=torch.float64)\n",
      "tensor([[-0.5117,  1.0726, -0.2873],\n",
      "        [-2.0101,  0.8948,  0.9089],\n",
      "        [ 1.2903,  0.5877, -0.9338],\n",
      "        [ 0.6009,  0.0768,  0.6720],\n",
      "        [-1.8931, -0.0958, -0.8193]])\n"
     ]
    }
   ],
   "source": [
    "x = x.new_ones(5, 3, dtype=torch.double)      # new_* methods take in sizes\n",
    "print(x)\n",
    "\n",
    "# Returns a tensor with the same size as input that is filled with random numbers from a normal distribution with mean 0 and variance 1.\n",
    "x = torch.randn_like(x, dtype=torch.float)    # override dtype!\n",
    "print(x)"
   ]
  },
  {
   "cell_type": "code",
   "execution_count": 79,
   "metadata": {},
   "outputs": [
    {
     "name": "stdout",
     "output_type": "stream",
     "text": [
      "torch.Size([5, 3])\n"
     ]
    }
   ],
   "source": [
    "print(x.size())"
   ]
  },
  {
   "attachments": {},
   "cell_type": "markdown",
   "metadata": {},
   "source": [
    "# Operation"
   ]
  },
  {
   "cell_type": "code",
   "execution_count": 80,
   "metadata": {},
   "outputs": [
    {
     "name": "stdout",
     "output_type": "stream",
     "text": [
      "tensor([[-0.0035,  1.4080, -0.2609],\n",
      "        [-1.8726,  1.1302,  1.4621],\n",
      "        [ 1.5476,  1.3297, -0.8472],\n",
      "        [ 1.4075,  0.7569,  1.0352],\n",
      "        [-1.0777,  0.2137, -0.5813]])\n",
      "tensor([[-0.0035,  1.4080, -0.2609],\n",
      "        [-1.8726,  1.1302,  1.4621],\n",
      "        [ 1.5476,  1.3297, -0.8472],\n",
      "        [ 1.4075,  0.7569,  1.0352],\n",
      "        [-1.0777,  0.2137, -0.5813]])\n",
      "tensor([[-0.0035,  1.4080, -0.2609],\n",
      "        [-1.8726,  1.1302,  1.4621],\n",
      "        [ 1.5476,  1.3297, -0.8472],\n",
      "        [ 1.4075,  0.7569,  1.0352],\n",
      "        [-1.0777,  0.2137, -0.5813]])\n"
     ]
    }
   ],
   "source": [
    "y = torch.rand(5, 3)\n",
    "print(x + y)\n",
    "print(torch.add(x, y))\n",
    "y.add_(x)\n",
    "print(y)\n",
    "\n",
    "# Note: Modifying the operation of a tensor in-place ends with an underscore. For example: x.copy_(y), x.t_(), both modify x."
   ]
  },
  {
   "attachments": {},
   "cell_type": "markdown",
   "metadata": {},
   "source": [
    "# Tensor的变换"
   ]
  },
  {
   "cell_type": "code",
   "execution_count": 81,
   "metadata": {},
   "outputs": [
    {
     "name": "stdout",
     "output_type": "stream",
     "text": [
      "tensor([ 1.0726,  0.8948,  0.5877,  0.0768, -0.0958])\n"
     ]
    }
   ],
   "source": [
    "print(x[:, 1])"
   ]
  },
  {
   "cell_type": "code",
   "execution_count": 82,
   "metadata": {},
   "outputs": [
    {
     "name": "stdout",
     "output_type": "stream",
     "text": [
      "torch.Size([4, 4]) torch.Size([16]) torch.Size([2, 8])\n"
     ]
    }
   ],
   "source": [
    "x = torch.randn(4, 4)\n",
    "y = x.view(16)\n",
    "z = x.view(-1, 8)  # -1的意思是让PyTorch自己推断出第一维的大小。\n",
    "print(x.size(), y.size(), z.size())"
   ]
  },
  {
   "cell_type": "code",
   "execution_count": 83,
   "metadata": {},
   "outputs": [
    {
     "name": "stdout",
     "output_type": "stream",
     "text": [
      "tensor([-0.1996])\n",
      "-0.19955870509147644\n"
     ]
    },
    {
     "data": {
      "text/plain": [
       "-0.6966081857681274"
      ]
     },
     "execution_count": 83,
     "metadata": {},
     "output_type": "execute_result"
    }
   ],
   "source": [
    "x = torch.randn(1)\n",
    "print(x)\n",
    "#输出的是一个Tensor\n",
    "tensor([-0.6966])\n",
    "\n",
    "print(x.item())\n",
    "#输出的是一个数\n",
    "-0.6966081857681274"
   ]
  },
  {
   "attachments": {},
   "cell_type": "markdown",
   "metadata": {},
   "source": [
    "# Tensor与Numpy的互相转换"
   ]
  },
  {
   "attachments": {},
   "cell_type": "markdown",
   "metadata": {},
   "source": [
    "## Torch Tensor和NumPy数组的转换非常容易。它们会共享内存地址，因此修改一方会影响另一方。把一个Torch Tensor转换成NumPy数组的代码示例为："
   ]
  },
  {
   "cell_type": "code",
   "execution_count": 84,
   "metadata": {},
   "outputs": [
    {
     "name": "stdout",
     "output_type": "stream",
     "text": [
      "tensor([1., 1., 1., 1., 1.])\n"
     ]
    }
   ],
   "source": [
    "a = torch.ones(5)\n",
    "print(a)\n",
    "#tensor([ 1.,  1.,  1.,  1.,  1.])"
   ]
  },
  {
   "cell_type": "code",
   "execution_count": 85,
   "metadata": {},
   "outputs": [
    {
     "name": "stdout",
     "output_type": "stream",
     "text": [
      "[1. 1. 1. 1. 1.]\n"
     ]
    }
   ],
   "source": [
    "b = a.numpy()\n",
    "print(b)\n",
    "#[1. 1. 1. 1. 1.]"
   ]
  },
  {
   "cell_type": "code",
   "execution_count": 86,
   "metadata": {},
   "outputs": [
    {
     "name": "stdout",
     "output_type": "stream",
     "text": [
      "tensor([2., 2., 2., 2., 2.])\n",
      "[2. 2. 2. 2. 2.]\n"
     ]
    }
   ],
   "source": [
    "a.add_(1)\n",
    "print(a)\n",
    "# tensor([ 2.,  2.,  2.,  2.,  2.])\n",
    "print(b)\n",
    "# [2. 2. 2. 2. 2.]"
   ]
  },
  {
   "cell_type": "code",
   "execution_count": 87,
   "metadata": {},
   "outputs": [
    {
     "name": "stdout",
     "output_type": "stream",
     "text": [
      "[2. 2. 2. 2. 2.]\n",
      "tensor([2., 2., 2., 2., 2.], dtype=torch.float64)\n"
     ]
    }
   ],
   "source": [
    "import numpy as np\n",
    "a = np.ones(5)\n",
    "'''\n",
    "把numpy转成torch\n",
    "'''\n",
    "b = torch.from_numpy(a)\n",
    "np.add(a, 1, out=a)\n",
    "print(a)\n",
    "# [2. 2. 2. 2. 2.]\n",
    "print(b)\n",
    "# tensor([ 2.,  2.,  2.,  2.,  2.], dtype=torch.float64)"
   ]
  },
  {
   "attachments": {},
   "cell_type": "markdown",
   "metadata": {},
   "source": [
    "# CUDA Tensor"
   ]
  },
  {
   "cell_type": "code",
   "execution_count": 88,
   "metadata": {},
   "outputs": [
    {
     "name": "stdout",
     "output_type": "stream",
     "text": [
      "tensor([0.8004], device='cuda:0')\n",
      "tensor([0.8004], dtype=torch.float64)\n"
     ]
    },
    {
     "data": {
      "text/plain": [
       "tensor([0.3034], dtype=torch.float64)"
      ]
     },
     "execution_count": 88,
     "metadata": {},
     "output_type": "execute_result"
    }
   ],
   "source": [
    "# 如果有CUDA\n",
    "# 我们会使用``torch.device``来把tensors放到GPU上\n",
    "if torch.cuda.is_available():\n",
    "\tdevice = torch.device(\"cuda\")          # 一个CUDA device对象。\n",
    "\ty = torch.ones_like(x, device=device)  # 直接在GPU上创建tensor\n",
    "\tx = x.to(device)                       # 也可以使用``.to(\"cuda\")``把一个tensor从CPU移到GPU上\n",
    "\tz = x + y\n",
    "\tprint(z)\n",
    "\tprint(z.to(\"cpu\", torch.double))       # ``.to``也可以在移动的过程中修改dtype\n",
    "\t\n",
    "# 输出：\n",
    "tensor([ 0.3034], device='cuda:0')\n",
    "tensor([ 0.3034], dtype=torch.float64)\t"
   ]
  },
  {
   "attachments": {},
   "cell_type": "markdown",
   "metadata": {},
   "source": [
    "# Autograd: 自动求导"
   ]
  },
  {
   "attachments": {},
   "cell_type": "markdown",
   "metadata": {},
   "source": [
    "#### PyTorch的核心是autograd包。 我们首先简单的了解一些，然后用PyTorch开始训练第一个神经网络。autograd为所有用于Tensor的operation提供自动求导的功能。我们通过一些简单的例子来学习它基本用法。"
   ]
  },
  {
   "attachments": {},
   "cell_type": "markdown",
   "metadata": {},
   "source": [
    "#### \n",
    "从自动求导看Tensor\n",
    "torch.Tensor 是这个包的核心类。如果它的属性requires_grad是True，那么PyTorch就会追踪所有与之相关的operation。当完成(正向)计算之后， 我们可以调用backward()，PyTorch会自动的把所有的梯度都计算好。与这个tensor相关的梯度都会累加到它的grad属性里。\n",
    "\n",
    "如果不想计算这个tensor的梯度，我们可以调用detach()，这样它就不会参与梯度的计算了。为了阻止PyTorch记录用于梯度计算相关的信息(从而节约内存)，我们可以使用 with torch.no_grad()。这在模型的预测时非常有用，因为预测的时候我们不需要计算梯度，否则我们就得一个个的修改Tensor的requires_grad属性，这会非常麻烦。\n",
    "\n",
    "关于autograd的实现还有一个很重要的Function类。Tensor和Function相互连接从而形成一个有向无环图, 这个图记录了计算的完整历史。每个tensor有一个grad_fn属性来引用创建这个tensor的Function(用户直接创建的Tensor，这些Tensor的grad_fn是None)。\n",
    "\n",
    "如果你想计算梯度，可以对一个Tensor调用它的backward()方法。如果这个Tensor是一个scalar(只有一个数)，那么调用时不需要传任何参数。如果Tensor多于一个数，那么需要传入和它的shape一样的参数，表示反向传播过来的梯度。"
   ]
  },
  {
   "attachments": {},
   "cell_type": "markdown",
   "metadata": {},
   "source": [
    "#### 创建tensor时设置属性requires_grad=True，PyTorch就会记录用于反向梯度计算的信息："
   ]
  },
  {
   "cell_type": "code",
   "execution_count": 89,
   "metadata": {},
   "outputs": [
    {
     "name": "stdout",
     "output_type": "stream",
     "text": [
      "tensor([[1., 1.],\n",
      "        [1., 1.]], requires_grad=True)\n"
     ]
    }
   ],
   "source": [
    "x = torch.ones(2, 2, requires_grad=True)\n",
    "print(x)"
   ]
  },
  {
   "attachments": {},
   "cell_type": "markdown",
   "metadata": {},
   "source": [
    "#### 然后我们通过operation产生新的tensor："
   ]
  },
  {
   "cell_type": "code",
   "execution_count": 90,
   "metadata": {},
   "outputs": [
    {
     "name": "stdout",
     "output_type": "stream",
     "text": [
      "tensor([[3., 3.],\n",
      "        [3., 3.]], grad_fn=<AddBackward0>)\n"
     ]
    }
   ],
   "source": [
    "y = x + 2\n",
    "print(y)"
   ]
  },
  {
   "attachments": {},
   "cell_type": "markdown",
   "metadata": {},
   "source": [
    "#### 是通过operation产生的tensor，因此它的grad_fn不是None。"
   ]
  },
  {
   "cell_type": "code",
   "execution_count": 91,
   "metadata": {},
   "outputs": [
    {
     "name": "stdout",
     "output_type": "stream",
     "text": [
      "<AddBackward0 object at 0x00000209E89A1100>\n"
     ]
    }
   ],
   "source": [
    "print(y.grad_fn)\n",
    "# <AddBackward0 object at 0x7f35409a68d0>"
   ]
  },
  {
   "attachments": {},
   "cell_type": "markdown",
   "metadata": {},
   "source": [
    "#### 再通过y得到z和out"
   ]
  },
  {
   "cell_type": "code",
   "execution_count": 92,
   "metadata": {},
   "outputs": [
    {
     "name": "stdout",
     "output_type": "stream",
     "text": [
      "tensor([[27., 27.],\n",
      "        [27., 27.]], grad_fn=<MulBackward0>) tensor(27., grad_fn=<MeanBackward0>)\n"
     ]
    }
   ],
   "source": [
    "z = y * y * 3\n",
    "out = z.mean()\n",
    "\n",
    "print(z, out)\n",
    "# z = tensor([[ 27.,  27.],[ 27.,  27.]]) \n",
    "# out = tensor(27.)"
   ]
  },
  {
   "attachments": {},
   "cell_type": "markdown",
   "metadata": {},
   "source": [
    "#### requires_grad_()函数会修改一个Tensor的requires_grad。"
   ]
  },
  {
   "cell_type": "code",
   "execution_count": 93,
   "metadata": {},
   "outputs": [
    {
     "name": "stdout",
     "output_type": "stream",
     "text": [
      "False\n",
      "True\n",
      "<SumBackward0 object at 0x00000209CDDD34F0>\n"
     ]
    }
   ],
   "source": [
    "a = torch.randn(2, 2)\n",
    "a = ((a * 3) / (a - 1))\n",
    "print(a.requires_grad)\n",
    "a.requires_grad_(True)\n",
    "print(a.requires_grad)\n",
    "b = (a * a).sum()\n",
    "print(b.grad_fn)"
   ]
  },
  {
   "attachments": {},
   "cell_type": "markdown",
   "metadata": {},
   "source": [
    "#### 梯度\n",
    "现在我们里反向计算梯度。因为out是一个scalar，因此out.backward()等价于out.backward(torch.tensor(1))。"
   ]
  },
  {
   "cell_type": "code",
   "execution_count": 94,
   "metadata": {},
   "outputs": [],
   "source": [
    "out.backward()"
   ]
  },
  {
   "attachments": {},
   "cell_type": "markdown",
   "metadata": {},
   "source": [
    "#### 我们可以打印梯度d(out)/dx："
   ]
  },
  {
   "cell_type": "code",
   "execution_count": 95,
   "metadata": {},
   "outputs": [
    {
     "name": "stdout",
     "output_type": "stream",
     "text": [
      "tensor([[4.5000, 4.5000],\n",
      "        [4.5000, 4.5000]])\n"
     ]
    }
   ],
   "source": [
    "print(x.grad)\n",
    "# tensor([[ 4.5000,  4.5000],[ 4.5000,  4.5000]])"
   ]
  },
  {
   "attachments": {},
   "cell_type": "markdown",
   "metadata": {},
   "source": [
    "我们手动计算来验证一下。为了简单，我们把out记为o。 o=14∑izi, zi=3(xi+2)2 并且 zi∣∣xi=1=27。\n",
    "\n",
    "因此，∂o∂xi=32(xi+2)，因此∂o∂xi∣∣xi=1=92=4.5。\n",
    "\n",
    "我们也可以用autograd做一些很奇怪的事情！比如y和x的关系是while循环的关系(似乎很难用一个函数直接表示y和x的关系？对x不断平方直到超过1000，这是什么函数？)"
   ]
  },
  {
   "cell_type": "code",
   "execution_count": 96,
   "metadata": {},
   "outputs": [
    {
     "name": "stdout",
     "output_type": "stream",
     "text": [
      "tensor([-913.7019,  272.0010,  759.0128], grad_fn=<MulBackward0>)\n"
     ]
    }
   ],
   "source": [
    "x = torch.randn(3, requires_grad=True)\n",
    "\n",
    "y = x * 2\n",
    "while y.data.norm() < 1000:\n",
    "\ty = y * 2\n",
    "\n",
    "print(y)\n",
    "# tensor([ -692.4808,  1686.1211,   667.7313])"
   ]
  },
  {
   "cell_type": "code",
   "execution_count": 97,
   "metadata": {},
   "outputs": [
    {
     "name": "stdout",
     "output_type": "stream",
     "text": [
      "tensor([1.0240e+02, 1.0240e+03, 1.0240e-01])\n"
     ]
    }
   ],
   "source": [
    "gradients = torch.tensor([0.1, 1.0, 0.0001], dtype=torch.float)\n",
    "y.backward(gradients)\n",
    "\n",
    "print(x.grad)\n",
    "# tensor([  102.4000,  1024.0000,     0.1024])"
   ]
  },
  {
   "attachments": {},
   "cell_type": "markdown",
   "metadata": {},
   "source": [
    "#### 我们可以使用”with torch.no_grad()”来停止梯度的计算："
   ]
  },
  {
   "cell_type": "code",
   "execution_count": 98,
   "metadata": {},
   "outputs": [
    {
     "name": "stdout",
     "output_type": "stream",
     "text": [
      "True\n",
      "True\n",
      "False\n"
     ]
    }
   ],
   "source": [
    "print(x.requires_grad)\n",
    "print((x ** 2).requires_grad)\n",
    "\n",
    "with torch.no_grad():\n",
    "\tprint((x ** 2).requires_grad)"
   ]
  },
  {
   "cell_type": "code",
   "execution_count": 99,
   "metadata": {},
   "outputs": [
    {
     "name": "stdout",
     "output_type": "stream",
     "text": [
      "z:tensor([[5., 8.]], grad_fn=<MmBackward0>)\n",
      "x.grad: tensor([1., 3.])\n",
      "y.grad: tensor([[2., 0.],\n",
      "        [1., 0.]])\n"
     ]
    }
   ],
   "source": [
    "x = torch.tensor([2., 1.], requires_grad=True)\n",
    "y = torch.tensor([[1., 2.], [3., 4.]], requires_grad=True)\n",
    "\n",
    "z = torch.mm(x.view(1, 2), y)\n",
    "print(f\"z:{z}\")\n",
    "z.backward(torch.Tensor([[1., 0]]), retain_graph=True)\n",
    "print(f\"x.grad: {x.grad}\")\n",
    "print(f\"y.grad: {y.grad}\")"
   ]
  },
  {
   "attachments": {},
   "cell_type": "markdown",
   "metadata": {},
   "source": [
    "# Pytorch神经网络介绍"
   ]
  },
  {
   "attachments": {},
   "cell_type": "markdown",
   "metadata": {},
   "source": [
    "#### 神经网络可以通过torch.nn包来创建。我们之前简单的了解了autograd，而nn会使用autograd来定义模型以及求梯度。一个nn.Module对象包括了许多网络层(layer)，并且有一个forward(input)方法来返回output。如下图所示，我们会定义一个卷积网络来识别mnist图片。"
   ]
  },
  {
   "attachments": {},
   "cell_type": "markdown",
   "metadata": {},
   "source": [
    "#### 训练一个神经网络通常需要如下步骤：\n",
    "\n",
    "- 定义一个神经网络，它通常有一些可以训练的参数\n",
    "- 迭代一个数据集(dataset)\n",
    "- 处理网络的输入\n",
    "- 计算loss(会调用Module对象的forward方法)\n",
    "- 计算loss对参数的梯度\n",
    "- 更新参数，通常使用如下的梯度下降方法来更新：\n",
    "\n",
    "weight = weight - learning_rate * gradient"
   ]
  },
  {
   "attachments": {},
   "cell_type": "markdown",
   "metadata": {},
   "source": [
    "### 定义网络"
   ]
  },
  {
   "cell_type": "code",
   "execution_count": 100,
   "metadata": {},
   "outputs": [
    {
     "name": "stdout",
     "output_type": "stream",
     "text": [
      "Net(\n",
      "  (conv1): Conv2d(1, 6, kernel_size=(5, 5), stride=(1, 1))\n",
      "  (conv2): Conv2d(6, 16, kernel_size=(5, 5), stride=(1, 1))\n",
      "  (fc1): Linear(in_features=400, out_features=120, bias=True)\n",
      "  (fc2): Linear(in_features=120, out_features=84, bias=True)\n",
      "  (fc3): Linear(in_features=84, out_features=10, bias=True)\n",
      ")\n"
     ]
    }
   ],
   "source": [
    "import torch\n",
    "import torch.nn as nn\n",
    "import torch.nn.functional as F\n",
    "\n",
    "\n",
    "class Net(nn.Module):\n",
    "\n",
    "\tdef __init__(self):\n",
    "\t\tsuper(Net, self).__init__()\n",
    "\t\t# 输入是1个通道的灰度图，输出6个通道(feature map)，使用5x5的卷积核\n",
    "\t\tself.conv1 = nn.Conv2d(1, 6, 5)\n",
    "\t\t# 第二个卷积层也是5x5，有16个通道\n",
    "\t\tself.conv2 = nn.Conv2d(6, 16, 5)\n",
    "\t\t# 全连接层\n",
    "\t\tself.fc1 = nn.Linear(16 * 5 * 5, 120)\n",
    "\t\tself.fc2 = nn.Linear(120, 84)\n",
    "\t\tself.fc3 = nn.Linear(84, 10)\n",
    "\t\n",
    "\tdef forward(self, x):\n",
    "\t\t# 32x32 -> 28x28 -> 14x14 \n",
    "\t\tx = F.max_pool2d(F.relu(self.conv1(x)), (2, 2))\n",
    "\t\t# 14x14 -> 10x10 -> 5x5\n",
    "\t\tx = F.max_pool2d(F.relu(self.conv2(x)), 2)\n",
    "\t\tx = x.view(-1, self.num_flat_features(x))\n",
    "\t\tx = F.relu(self.fc1(x))\n",
    "\t\tx = F.relu(self.fc2(x))\n",
    "\t\tx = self.fc3(x)\n",
    "\t\treturn x\n",
    "\t\n",
    "\tdef num_flat_features(self, x):\n",
    "\t\tsize = x.size()[1:]  # 除了batch维度之外的其它维度。\n",
    "\t\tnum_features = 1\n",
    "\t\tfor s in size:\n",
    "\t\t\tnum_features *= s\n",
    "\t\treturn num_features\n",
    "\n",
    "\n",
    "net = Net()\n",
    "print(net)"
   ]
  },
  {
   "attachments": {},
   "cell_type": "markdown",
   "metadata": {},
   "source": [
    "#### 我们只需要定义forward函数，而backward函数会自动通过autograd创建。在forward函数里可以使用任何处理Tensor的函数。我们可以使用函数net.parameters()来得到模型所有的参数。"
   ]
  },
  {
   "cell_type": "code",
   "execution_count": 101,
   "metadata": {},
   "outputs": [
    {
     "name": "stdout",
     "output_type": "stream",
     "text": [
      "10\n",
      "torch.Size([6, 1, 5, 5])\n"
     ]
    }
   ],
   "source": [
    "params = list(net.parameters())\n",
    "print(len(params))\n",
    "# 10\n",
    "print(params[0].size())  # conv1的weight\n",
    "# torch.Size([6, 1, 5, 5])"
   ]
  },
  {
   "attachments": {},
   "cell_type": "markdown",
   "metadata": {},
   "source": [
    "### 测试网络"
   ]
  },
  {
   "attachments": {},
   "cell_type": "markdown",
   "metadata": {},
   "source": [
    "#### 接着我们尝试一个随机的32x32的输入来检验(sanity check)网络定义没有问题。注意：这个网络(LeNet)期望的输入大小是32x32。如果使用MNIST数据集(28x28)，我们需要缩放到32x32。"
   ]
  },
  {
   "cell_type": "code",
   "execution_count": 102,
   "metadata": {},
   "outputs": [
    {
     "name": "stdout",
     "output_type": "stream",
     "text": [
      "tensor([[-0.0034, -0.1568,  0.0167,  0.0894, -0.1450, -0.0211,  0.0329,  0.0061,\n",
      "          0.1217, -0.0495]], grad_fn=<AddmmBackward0>)\n"
     ]
    }
   ],
   "source": [
    "input = torch.randn(1, 1, 32, 32)\n",
    "out = net(input)\n",
    "print(out)"
   ]
  },
  {
   "attachments": {},
   "cell_type": "markdown",
   "metadata": {},
   "source": [
    "#### 默认的梯度会累加，因此我们通常在backward之前清除掉之前的梯度值："
   ]
  },
  {
   "cell_type": "code",
   "execution_count": 103,
   "metadata": {},
   "outputs": [],
   "source": [
    "net.zero_grad()\n",
    "out.backward(torch.randn(1, 10))"
   ]
  },
  {
   "attachments": {},
   "cell_type": "markdown",
   "metadata": {},
   "source": [
    "#### 注意：torch.nn只支持mini-batches的输入。整个torch.nn包的输入都必须第一维是batch，即使只有一个样本也要弄成batch是1的输入。\n",
    "#### 比如，nn.Conv2d的输入是一个4D的Tensor，shape是nSamples x nChannels x Height x Width。如果你只有一个样本(nChannels x Height x Width)，那么可以使用input.unsqueeze(0)来增加一个batch维。"
   ]
  },
  {
   "attachments": {},
   "cell_type": "markdown",
   "metadata": {},
   "source": [
    "### 损失函数"
   ]
  },
  {
   "attachments": {},
   "cell_type": "markdown",
   "metadata": {},
   "source": [
    "#### 损失函数的参数是(output, target)对，output是模型的预测，target是实际的值。损失函数会计算预测值和真实值的差别，损失越小说明预测的越准。\n",
    "\n",
    "#### PyTorch提供了这里有许多不同的损失函数： http://pytorch.org/docs/nn.html#loss-functions。最简单的一个损失函数是：nn.MSELoss，它会计算预测值和真实值的均方误差。比如："
   ]
  },
  {
   "cell_type": "code",
   "execution_count": 104,
   "metadata": {},
   "outputs": [
    {
     "name": "stdout",
     "output_type": "stream",
     "text": [
      "tensor(38.4837, grad_fn=<MseLossBackward0>)\n"
     ]
    }
   ],
   "source": [
    "output = net(input)\n",
    "target = torch.arange(1, 11)  # 随便伪造的一个“真实值” \n",
    "target = target.view(1, -1)  # 把它变成output的shape(1, 10) \n",
    "criterion = nn.MSELoss()\n",
    "\n",
    "loss = criterion(output, target)\n",
    "print(loss)"
   ]
  },
  {
   "attachments": {},
   "cell_type": "markdown",
   "metadata": {},
   "source": [
    "#### 如果从loss往回走，需要使用tensor的grad_fn属性，我们Negative看到这样的计算图：\n",
    "input -> conv2d -> relu -> maxpool2d -> conv2d -> relu -> maxpool2d\n",
    "-> view -> linear -> relu -> linear -> relu -> linear\n",
    "-> MSELoss\n",
    "-> loss"
   ]
  },
  {
   "attachments": {},
   "cell_type": "markdown",
   "metadata": {},
   "source": [
    "#### 因此当调用loss.backward()时，PyTorch会计算这个图中所有requires_grad=True的tensor关于loss的梯度。"
   ]
  },
  {
   "cell_type": "code",
   "execution_count": 105,
   "metadata": {},
   "outputs": [
    {
     "name": "stdout",
     "output_type": "stream",
     "text": [
      "<MseLossBackward0 object at 0x00000209CDE16A30>\n",
      "<AddmmBackward0 object at 0x00000209CDE16AF0>\n",
      "<AccumulateGrad object at 0x00000209CDE16A30>\n"
     ]
    }
   ],
   "source": [
    "print(loss.grad_fn)  # MSELoss\n",
    "print(loss.grad_fn.next_functions[0][0])  # Add\n",
    "print(loss.grad_fn.next_functions[0][0].next_functions[0][0])  # Expand\n"
   ]
  },
  {
   "attachments": {},
   "cell_type": "markdown",
   "metadata": {},
   "source": [
    "### 计算梯度"
   ]
  },
  {
   "attachments": {},
   "cell_type": "markdown",
   "metadata": {},
   "source": [
    "#### 在调用loss.backward()之前，我们需要清除掉tensor里之前的梯度，否则会累加进去。"
   ]
  },
  {
   "attachments": {},
   "cell_type": "markdown",
   "metadata": {},
   "source": [
    "# 案例"
   ]
  },
  {
   "attachments": {},
   "cell_type": "markdown",
   "metadata": {},
   "source": [
    "### 如何进行数据处理\n",
    "一般地，当我们处理图片、文本、音频或者视频数据的时候，我们可以使用python代码来把它转换成numpy数组。然后再把numpy数组转换成torch.xxxTensor。\n",
    "\n",
    "对于处理图像，常见的lib包括Pillow和OpenCV\n",
    "对于音频，常见的lib包括scipy和librosa\n",
    "对于文本，可以使用标准的Python库，另外比较流行的lib包括NLTK和SpaCy\n",
    "对于视觉问题，PyTorch提供了一个torchvision包(需要单独安装)，它对于常见数据集比如Imagenet, CIFAR10, MNIST等提供了加载的方法。并且它也提供很多数据变化的工具，包括torchvision.datasets和torch.utils.data.DataLoader。这会极大的简化我们的工作，避免重复的代码。\n",
    "\n",
    "在这个教程里，我们使用CIFAR10数据集。它包括十个类别：”airplane”, “automobile”, “bird”, “cat”, “deer”, “dog”, “frog”, “horse”, “ship”,”truck”。图像的对象是3x32x32，也就是3通道(RGB)的32x32的图片。"
   ]
  },
  {
   "attachments": {},
   "cell_type": "markdown",
   "metadata": {},
   "source": [
    "#### 训练的步骤\n",
    "- 使用torchvision加载和预处理CIFAR10训练和测试数据集。\n",
    "- 定义卷积网络\n",
    "- 定义损失函数\n",
    "- 用训练数据训练模型\n",
    "- 用测试数据测试模型"
   ]
  },
  {
   "attachments": {},
   "cell_type": "markdown",
   "metadata": {},
   "source": [
    "### 数据处理"
   ]
  },
  {
   "attachments": {},
   "cell_type": "markdown",
   "metadata": {},
   "source": [
    "通过使用torchvision，我们可以轻松的加载CIFAR10数据集。首先我们导入相关的包："
   ]
  },
  {
   "cell_type": "code",
   "execution_count": 109,
   "metadata": {},
   "outputs": [],
   "source": [
    "import torch\n",
    "import torchvision\n",
    "import torchvision.transforms as transforms"
   ]
  },
  {
   "attachments": {},
   "cell_type": "markdown",
   "metadata": {},
   "source": [
    "torchvision读取的datasets是PILImage对象，它的取值范围是[0, 1]，我们把它转换到范围[-1, 1]。"
   ]
  },
  {
   "cell_type": "code",
   "execution_count": 112,
   "metadata": {},
   "outputs": [
    {
     "name": "stdout",
     "output_type": "stream",
     "text": [
      "Downloading https://www.cs.toronto.edu/~kriz/cifar-10-python.tar.gz to /path/to/data\\cifar-10-python.tar.gz\n"
     ]
    },
    {
     "name": "stderr",
     "output_type": "stream",
     "text": [
      "100.0%\n"
     ]
    },
    {
     "name": "stdout",
     "output_type": "stream",
     "text": [
      "Extracting /path/to/data\\cifar-10-python.tar.gz to /path/to/data\n",
      "Files already downloaded and verified\n"
     ]
    }
   ],
   "source": [
    "transform = transforms.Compose([transforms.ToTensor(),\n",
    "\ttransforms.Normalize((0.5, 0.5, 0.5), (0.5, 0.5, 0.5))])\n",
    "\n",
    "trainset = torchvision.datasets.CIFAR10(root='/path/to/data', train=True, download=True, transform=transform)\n",
    "\n",
    "trainloader = torch.utils.data.DataLoader(trainset, batch_size=4, shuffle=True, num_workers=2)\n",
    "\n",
    "testset = torchvision.datasets.CIFAR10(root='/path/to/data', train=False,\n",
    "\tdownload=True, transform=transform)\n",
    "testloader = torch.utils.data.DataLoader(testset, batch_size=4,\n",
    "\tshuffle=False, num_workers=2)\n",
    "\n",
    "classes = ('plane', 'car', 'bird', 'cat',\n",
    "\t'deer', 'dog', 'frog', 'horse', 'ship', 'truck')"
   ]
  },
  {
   "attachments": {},
   "cell_type": "markdown",
   "metadata": {},
   "source": [
    "我们来看几张图片，如下图所示，显示图片的代码如下："
   ]
  },
  {
   "cell_type": "code",
   "execution_count": 116,
   "metadata": {},
   "outputs": [
    {
     "data": {
      "image/png": "[encoded data removed]",
      "text/plain": [
       "<Figure size 640x480 with 1 Axes>"
      ]
     },
     "metadata": {},
     "output_type": "display_data"
    },
    {
     "name": "stdout",
     "output_type": "stream",
     "text": [
      "  cat horse plane  deer\n"
     ]
    }
   ],
   "source": [
    "import matplotlib.pyplot as plt\n",
    "import numpy as np\n",
    "import pylab\n",
    "\n",
    "# 显示图片的函数\n",
    "\n",
    "\n",
    "def imshow(img):\n",
    "    img = img / 2 + 0.5     #  [-1,1] -> [0,1]\n",
    "    npimg = img.numpy()\n",
    "    plt.imshow(np.transpose(npimg, (1, 2, 0))) # (channel, width, height) -> (width, height, channel)\n",
    "\n",
    "\n",
    "# 随机选择一些图片\n",
    "dataiter = iter(trainloader)\n",
    "images, labels = dataiter.next()\n",
    "\n",
    "# 显示图片\n",
    "imshow(torchvision.utils.make_grid(images))\n",
    "plt.show()\n",
    "# 打印label\n",
    "print(' '.join('%5s' % classes[labels[j]] for j in range(4)))\n"
   ]
  },
  {
   "attachments": {},
   "cell_type": "markdown",
   "metadata": {},
   "source": [
    "### 定义卷积网络\n",
    "- 网络结构和上一节的介绍类似，只是输入通道从1变成3。"
   ]
  },
  {
   "cell_type": "code",
   "execution_count": 117,
   "metadata": {},
   "outputs": [],
   "source": [
    "import torch.nn as nn\n",
    "import torch.nn.functional as F\n",
    "\n",
    "\n",
    "class Net(nn.Module):\n",
    "\tdef __init__(self):\n",
    "\t\tsuper(Net, self).__init__()\n",
    "\t\tself.conv1 = nn.Conv2d(3, 6, 5)\n",
    "\t\tself.pool = nn.MaxPool2d(2, 2)\n",
    "\t\tself.conv2 = nn.Conv2d(6, 16, 5)\n",
    "\t\tself.fc1 = nn.Linear(16 * 5 * 5, 120)\n",
    "\t\tself.fc2 = nn.Linear(120, 84)\n",
    "\t\tself.fc3 = nn.Linear(84, 10)\n",
    "\t\n",
    "\tdef forward(self, x):\n",
    "\t\tx = self.pool(F.relu(self.conv1(x)))\n",
    "\t\tx = self.pool(F.relu(self.conv2(x)))\n",
    "\t\tx = x.view(-1, 16 * 5 * 5)\n",
    "\t\tx = F.relu(self.fc1(x))\n",
    "\t\tx = F.relu(self.fc2(x))\n",
    "\t\tx = self.fc3(x)\n",
    "\t\treturn x\n",
    "\n",
    "net = Net()"
   ]
  },
  {
   "attachments": {},
   "cell_type": "markdown",
   "metadata": {},
   "source": [
    "我们这里使用交叉熵损失函数，Optimizer使用带冲量的SGD。"
   ]
  },
  {
   "cell_type": "code",
   "execution_count": 118,
   "metadata": {},
   "outputs": [],
   "source": [
    "import torch.optim as optim\n",
    "\n",
    "criterion = nn.CrossEntropyLoss()\n",
    "optimizer = optim.SGD(net.parameters(), lr=0.001, momentum=0.9)"
   ]
  },
  {
   "attachments": {},
   "cell_type": "markdown",
   "metadata": {},
   "source": [
    "我们遍历DataLoader进行训练。"
   ]
  },
  {
   "cell_type": "code",
   "execution_count": 119,
   "metadata": {},
   "outputs": [
    {
     "name": "stdout",
     "output_type": "stream",
     "text": [
      "[1,  2000] loss: 0.001\n",
      "[1,  4000] loss: 0.001\n",
      "[1,  6000] loss: 0.000\n",
      "[1,  8000] loss: 0.000\n",
      "[1, 10000] loss: 0.001\n",
      "[1, 12000] loss: 0.001\n",
      "[2,  2000] loss: 0.001\n",
      "[2,  4000] loss: 0.000\n",
      "[2,  6000] loss: 0.001\n",
      "[2,  8000] loss: 0.001\n",
      "[2, 10000] loss: 0.001\n",
      "[2, 12000] loss: 0.001\n",
      "[3,  2000] loss: 0.000\n",
      "[3,  4000] loss: 0.001\n",
      "[3,  6000] loss: 0.000\n",
      "[3,  8000] loss: 0.000\n",
      "[3, 10000] loss: 0.001\n",
      "[3, 12000] loss: 0.000\n",
      "[4,  2000] loss: 0.001\n",
      "[4,  4000] loss: 0.001\n",
      "[4,  6000] loss: 0.001\n",
      "[4,  8000] loss: 0.001\n",
      "[4, 10000] loss: 0.000\n",
      "[4, 12000] loss: 0.000\n",
      "[5,  2000] loss: 0.001\n",
      "[5,  4000] loss: 0.000\n",
      "[5,  6000] loss: 0.000\n",
      "[5,  8000] loss: 0.001\n",
      "[5, 10000] loss: 0.000\n",
      "[5, 12000] loss: 0.000\n",
      "[6,  2000] loss: 0.000\n",
      "[6,  4000] loss: 0.001\n",
      "[6,  6000] loss: 0.000\n",
      "[6,  8000] loss: 0.000\n",
      "[6, 10000] loss: 0.001\n",
      "[6, 12000] loss: 0.001\n",
      "[7,  2000] loss: 0.000\n",
      "[7,  4000] loss: 0.000\n",
      "[7,  6000] loss: 0.001\n",
      "[7,  8000] loss: 0.000\n",
      "[7, 10000] loss: 0.001\n",
      "[7, 12000] loss: 0.001\n",
      "[8,  2000] loss: 0.000\n",
      "[8,  4000] loss: 0.000\n",
      "[8,  6000] loss: 0.000\n",
      "[8,  8000] loss: 0.000\n",
      "[8, 10000] loss: 0.000\n",
      "[8, 12000] loss: 0.000\n",
      "[9,  2000] loss: 0.000\n",
      "[9,  4000] loss: 0.000\n",
      "[9,  6000] loss: 0.000\n",
      "[9,  8000] loss: 0.000\n",
      "[9, 10000] loss: 0.000\n",
      "[9, 12000] loss: 0.001\n",
      "[10,  2000] loss: 0.000\n",
      "[10,  4000] loss: 0.000\n",
      "[10,  6000] loss: 0.000\n",
      "[10,  8000] loss: 0.001\n",
      "[10, 10000] loss: 0.000\n",
      "[10, 12000] loss: 0.001\n",
      "Finished Training\n"
     ]
    }
   ],
   "source": [
    "for epoch in range(10):  # 这里只迭代2个epoch，实际应该进行更多次训练 \n",
    "\n",
    "\trunning_loss = 0.0\n",
    "\tfor i, data in enumerate(trainloader, 0):\n",
    "\t\t# 得到输入\n",
    "\t\tinputs, labels = data\n",
    "\t\t\n",
    "\t\t# 梯度清零 \n",
    "\t\toptimizer.zero_grad()\n",
    "\t\t\n",
    "\t\t# forward + backward + optimize\n",
    "\t\toutputs = net(inputs)\n",
    "\t\tloss = criterion(outputs, labels)\n",
    "\t\tloss.backward()\n",
    "\t\toptimizer.step()\n",
    "\t\t\n",
    "\t\t# 定义统计信息\n",
    "\t\trunning_loss += loss.item()\n",
    "\t\tif i % 2000 == 1999:\n",
    "\t\t\tprint('[%d, %5d] loss: %.3f' %\n",
    "\t\t\t\t(epoch + 1, i + 1, running_loss / 2000))\n",
    "\t\trunning_loss = 0.0\n",
    "\n",
    "print('Finished Training')"
   ]
  },
  {
   "attachments": {},
   "cell_type": "markdown",
   "metadata": {},
   "source": [
    "### 在测试数据集上进行测试\n",
    "我们进行了2轮迭代，可以使用测试数据集上的数据来进行测试。首先我们随机抽取几个样本来进行测试。随机选择出来的测试样例如下图所示。"
   ]
  },
  {
   "cell_type": "code",
   "execution_count": 120,
   "metadata": {},
   "outputs": [
    {
     "name": "stdout",
     "output_type": "stream",
     "text": [
      "GroundTruth:    cat  ship  ship plane\n"
     ]
    },
    {
     "data": {
      "image/png": "[encoded data removed]",
      "text/plain": [
       "<Figure size 640x480 with 1 Axes>"
      ]
     },
     "metadata": {},
     "output_type": "display_data"
    }
   ],
   "source": [
    "dataiter = iter(testloader)\n",
    "images, labels = dataiter.next()\n",
    "\n",
    "\n",
    "imshow(torchvision.utils.make_grid(images))\n",
    "print('GroundTruth: ', ' '.join('%5s' % classes[labels[j]] for j in range(4)))"
   ]
  },
  {
   "attachments": {},
   "cell_type": "markdown",
   "metadata": {},
   "source": [
    "我们用模型来预测一下，看看是否正确预测："
   ]
  },
  {
   "cell_type": "code",
   "execution_count": 121,
   "metadata": {},
   "outputs": [],
   "source": [
    "outputs = net(images)"
   ]
  },
  {
   "attachments": {},
   "cell_type": "markdown",
   "metadata": {},
   "source": [
    "outputs是10个分类的logits。我们在训练的时候需要用softmax把它变成概率(CrossEntropyLoss帮我们做了)，但是预测的时候没有必要，因为我们只需要知道哪个分类的概率大就行。"
   ]
  },
  {
   "cell_type": "code",
   "execution_count": 122,
   "metadata": {},
   "outputs": [
    {
     "name": "stdout",
     "output_type": "stream",
     "text": [
      "Predicted:    cat  ship  ship plane\n"
     ]
    }
   ],
   "source": [
    "_, predicted = torch.max(outputs, 1)\n",
    "\n",
    "print('Predicted: ', ' '.join('%5s' % classes[predicted[j]]\n",
    "\t\tfor j in range(4)))\n",
    "\n",
    "# cat  ship  ship  ship"
   ]
  },
  {
   "attachments": {},
   "cell_type": "markdown",
   "metadata": {},
   "source": [
    "预测中的四个错了一个，似乎还不错。接下来我们看看在整个测试集合上的效果："
   ]
  },
  {
   "cell_type": "code",
   "execution_count": 124,
   "metadata": {},
   "outputs": [
    {
     "name": "stdout",
     "output_type": "stream",
     "text": [
      "Accuracy of the network on the 10000 test images: 63 %\n"
     ]
    }
   ],
   "source": [
    "correct = 0\n",
    "total = 0\n",
    "with torch.no_grad():\n",
    "\tfor data in testloader:\n",
    "\t\timages, labels = data\n",
    "\t\toutputs = net(images)\n",
    "\t\t_, predicted = torch.max(outputs.data, 1)\n",
    "\t\ttotal += labels.size(0)\n",
    "\t\tcorrect += (predicted == labels).sum().item()\n",
    "\n",
    "print('Accuracy of the network on the 10000 test images: %d %%' % (\n",
    "\t100 * correct / total))\n",
    "\n",
    "# Accuracy of the network on the 10000 test images: 63 %"
   ]
  },
  {
   "attachments": {},
   "cell_type": "markdown",
   "metadata": {},
   "source": [
    "看起来比随机的瞎猜要好，因为随机猜的准确率大概是10%的准确率，所以模型确实学到了一些东西。我们也可以看每个分类的准确率："
   ]
  },
  {
   "cell_type": "code",
   "execution_count": 125,
   "metadata": {},
   "outputs": [
    {
     "name": "stdout",
     "output_type": "stream",
     "text": [
      "Accuracy of plane : 58 %\n",
      "Accuracy of   car : 82 %\n",
      "Accuracy of  bird : 56 %\n",
      "Accuracy of   cat : 44 %\n",
      "Accuracy of  deer : 64 %\n",
      "Accuracy of   dog : 46 %\n",
      "Accuracy of  frog : 78 %\n",
      "Accuracy of horse : 60 %\n",
      "Accuracy of  ship : 76 %\n",
      "Accuracy of truck : 66 %\n"
     ]
    }
   ],
   "source": [
    "class_correct = list(0. for i in range(10))\n",
    "class_total = list(0. for i in range(10))\n",
    "with torch.no_grad():\n",
    "\tfor data in testloader:\n",
    "\t\timages, labels = data\n",
    "\t\toutputs = net(images)\n",
    "\t\t_, predicted = torch.max(outputs, 1)\n",
    "\t\tc = (predicted == labels).squeeze()\n",
    "\t\tfor i in range(4):\n",
    "\t\t\tlabel = labels[i]\n",
    "\t\t\tclass_correct[label] += c[i].item()\n",
    "\t\t\tclass_total[label] += 1\n",
    "\n",
    "\n",
    "for i in range(10):\n",
    "\tprint('Accuracy of %5s : %2d %%' % (\n",
    "\t\tclasses[i], 100 * class_correct[i] / class_total[i]))"
   ]
  },
  {
   "attachments": {},
   "cell_type": "markdown",
   "metadata": {},
   "source": [
    "# 在GPU上训练\n",
    "为了在GPU上训练，我们需要把Tensor移到GPU上。首先我们看看是否有GPU，如果没有，那么我们还是fallback到CPU。"
   ]
  },
  {
   "cell_type": "code",
   "execution_count": 126,
   "metadata": {},
   "outputs": [
    {
     "name": "stdout",
     "output_type": "stream",
     "text": [
      "cuda:0\n"
     ]
    }
   ],
   "source": [
    "device = torch.device(\"cuda:0\" if torch.cuda.is_available() else \"cpu\")\n",
    "print(device)"
   ]
  },
  {
   "attachments": {},
   "cell_type": "markdown",
   "metadata": {},
   "source": [
    "用GPU进行训练："
   ]
  },
  {
   "cell_type": "code",
   "execution_count": 130,
   "metadata": {},
   "outputs": [
    {
     "name": "stdout",
     "output_type": "stream",
     "text": [
      "[1,  2000] loss: 2.237\n",
      "[1,  4000] loss: 1.912\n",
      "[1,  6000] loss: 1.699\n",
      "[1,  8000] loss: 1.591\n",
      "[1, 10000] loss: 1.540\n",
      "[1, 12000] loss: 1.479\n",
      "[2,  2000] loss: 1.418\n",
      "[2,  4000] loss: 1.362\n",
      "[2,  6000] loss: 1.348\n",
      "[2,  8000] loss: 1.302\n",
      "[2, 10000] loss: 1.310\n",
      "[2, 12000] loss: 1.267\n",
      "[3,  2000] loss: 1.211\n",
      "[3,  4000] loss: 1.206\n",
      "[3,  6000] loss: 1.201\n",
      "[3,  8000] loss: 1.214\n",
      "[3, 10000] loss: 1.171\n",
      "[3, 12000] loss: 1.167\n",
      "[4,  2000] loss: 1.090\n",
      "[4,  4000] loss: 1.127\n",
      "[4,  6000] loss: 1.102\n",
      "[4,  8000] loss: 1.110\n",
      "[4, 10000] loss: 1.114\n",
      "[4, 12000] loss: 1.088\n",
      "[5,  2000] loss: 1.036\n",
      "[5,  4000] loss: 1.033\n",
      "[5,  6000] loss: 1.044\n",
      "[5,  8000] loss: 1.062\n",
      "[5, 10000] loss: 1.021\n",
      "[5, 12000] loss: 1.038\n",
      "[6,  2000] loss: 0.962\n",
      "[6,  4000] loss: 0.961\n",
      "[6,  6000] loss: 0.994\n",
      "[6,  8000] loss: 0.983\n",
      "[6, 10000] loss: 0.981\n",
      "[6, 12000] loss: 0.991\n",
      "[7,  2000] loss: 0.883\n",
      "[7,  4000] loss: 0.915\n",
      "[7,  6000] loss: 0.936\n",
      "[7,  8000] loss: 0.951\n",
      "[7, 10000] loss: 0.949\n",
      "[7, 12000] loss: 0.965\n",
      "[8,  2000] loss: 0.849\n",
      "[8,  4000] loss: 0.876\n",
      "[8,  6000] loss: 0.891\n",
      "[8,  8000] loss: 0.933\n",
      "[8, 10000] loss: 0.911\n",
      "[8, 12000] loss: 0.914\n",
      "[9,  2000] loss: 0.824\n",
      "[9,  4000] loss: 0.853\n",
      "[9,  6000] loss: 0.859\n",
      "[9,  8000] loss: 0.873\n",
      "[9, 10000] loss: 0.870\n",
      "[9, 12000] loss: 0.889\n",
      "[10,  2000] loss: 0.788\n",
      "[10,  4000] loss: 0.813\n",
      "[10,  6000] loss: 0.833\n",
      "[10,  8000] loss: 0.834\n",
      "[10, 10000] loss: 0.851\n",
      "[10, 12000] loss: 0.866\n",
      "[11,  2000] loss: 0.754\n",
      "[11,  4000] loss: 0.815\n",
      "[11,  6000] loss: 0.796\n",
      "[11,  8000] loss: 0.810\n",
      "[11, 10000] loss: 0.836\n",
      "[11, 12000] loss: 0.838\n",
      "[12,  2000] loss: 0.722\n",
      "[12,  4000] loss: 0.767\n",
      "[12,  6000] loss: 0.758\n",
      "[12,  8000] loss: 0.792\n",
      "[12, 10000] loss: 0.818\n",
      "[12, 12000] loss: 0.821\n",
      "[13,  2000] loss: 0.711\n",
      "[13,  4000] loss: 0.738\n",
      "[13,  6000] loss: 0.759\n",
      "[13,  8000] loss: 0.775\n",
      "[13, 10000] loss: 0.783\n",
      "[13, 12000] loss: 0.801\n",
      "[14,  2000] loss: 0.702\n",
      "[14,  4000] loss: 0.711\n",
      "[14,  6000] loss: 0.753\n",
      "[14,  8000] loss: 0.745\n",
      "[14, 10000] loss: 0.777\n",
      "[14, 12000] loss: 0.774\n",
      "[15,  2000] loss: 0.684\n",
      "[15,  4000] loss: 0.666\n",
      "[15,  6000] loss: 0.718\n",
      "[15,  8000] loss: 0.769\n",
      "[15, 10000] loss: 0.764\n",
      "[15, 12000] loss: 0.777\n",
      "[16,  2000] loss: 0.645\n",
      "[16,  4000] loss: 0.686\n",
      "[16,  6000] loss: 0.724\n",
      "[16,  8000] loss: 0.733\n",
      "[16, 10000] loss: 0.741\n",
      "[16, 12000] loss: 0.769\n",
      "[17,  2000] loss: 0.641\n",
      "[17,  4000] loss: 0.676\n",
      "[17,  6000] loss: 0.711\n",
      "[17,  8000] loss: 0.703\n",
      "[17, 10000] loss: 0.752\n",
      "[17, 12000] loss: 0.751\n",
      "[18,  2000] loss: 0.619\n",
      "[18,  4000] loss: 0.660\n",
      "[18,  6000] loss: 0.679\n",
      "[18,  8000] loss: 0.720\n",
      "[18, 10000] loss: 0.719\n",
      "[18, 12000] loss: 0.738\n",
      "[19,  2000] loss: 0.608\n",
      "[19,  4000] loss: 0.657\n",
      "[19,  6000] loss: 0.691\n",
      "[19,  8000] loss: 0.708\n",
      "[19, 10000] loss: 0.691\n",
      "[19, 12000] loss: 0.727\n",
      "[20,  2000] loss: 0.583\n",
      "[20,  4000] loss: 0.666\n",
      "[20,  6000] loss: 0.674\n",
      "[20,  8000] loss: 0.694\n",
      "[20, 10000] loss: 0.700\n",
      "[20, 12000] loss: 0.718\n",
      "Finished Training\n"
     ]
    }
   ],
   "source": [
    "class Net2(nn.Module):\n",
    "\tdef __init__(self):\n",
    "\t\tsuper(Net2, self).__init__()\n",
    "\t\tself.conv1 = nn.Conv2d(3, 6, 5).to(device)\n",
    "\t\tself.pool = nn.MaxPool2d(2, 2).to(device)\n",
    "\t\tself.conv2 = nn.Conv2d(6, 16, 5).to(device)\n",
    "\t\tself.fc1 = nn.Linear(16 * 5 * 5, 120).to(device)\n",
    "\t\tself.fc2 = nn.Linear(120, 84).to(device)\n",
    "\t\tself.fc3 = nn.Linear(84, 10).to(device)\n",
    "\n",
    "\tdef forward(self, x):\n",
    "\t\tx = self.pool(F.relu(self.conv1(x)))\n",
    "\t\tx = self.pool(F.relu(self.conv2(x)))\n",
    "\t\tx = x.view(-1, 16 * 5 * 5)\n",
    "\t\tx = F.relu(self.fc1(x))\n",
    "\t\tx = F.relu(self.fc2(x))\n",
    "\t\tx = self.fc3(x)\n",
    "\t\treturn x\n",
    "\n",
    "\n",
    "net = Net2()\n",
    "criterion = nn.CrossEntropyLoss()\n",
    "optimizer = optim.SGD(net.parameters(), lr=0.001, momentum=0.9)\n",
    "\n",
    "for epoch in range(20):\n",
    "\n",
    "\trunning_loss = 0.0\n",
    "\tfor i, data in enumerate(trainloader, 0):\n",
    "\t\t# 得到输入\n",
    "\t\tinputs, labels = data \n",
    "\t\tinputs, labels = inputs.to(device), labels.to(device) \n",
    "\t\t# 梯度清零 \n",
    "\t\toptimizer.zero_grad()\n",
    "\t\t\n",
    "\t\t# forward + backward + optimize\n",
    "\t\toutputs = net(inputs)\n",
    "\t\tloss = criterion(outputs, labels)\n",
    "\t\tloss.backward()\n",
    "\t\toptimizer.step()\n",
    "\t\t\n",
    "\t\t# 定义统计信息\n",
    "\t\trunning_loss += loss.item()\n",
    "\t\tif i % 2000 == 1999:\n",
    "\t\t\tprint('[%d, %5d] loss: %.3f' %\n",
    "\t\t\t\t(epoch + 1, i + 1, running_loss / 2000))\n",
    "\t\t\trunning_loss = 0.0\n",
    "\t\t\n",
    "print('Finished Training')"
   ]
  },
  {
   "cell_type": "code",
   "execution_count": null,
   "metadata": {},
   "outputs": [],
   "source": []
  },
  {
   "cell_type": "code",
   "execution_count": null,
   "metadata": {},
   "outputs": [],
   "source": []
  },
  {
   "cell_type": "code",
   "execution_count": null,
   "metadata": {},
   "outputs": [],
   "source": []
  },
  {
   "cell_type": "code",
   "execution_count": null,
   "metadata": {},
   "outputs": [],
   "source": []
  },
  {
   "cell_type": "code",
   "execution_count": null,
   "metadata": {},
   "outputs": [],
   "source": []
  },
  {
   "cell_type": "code",
   "execution_count": null,
   "metadata": {},
   "outputs": [],
   "source": []
  },
  {
   "cell_type": "code",
   "execution_count": null,
   "metadata": {},
   "outputs": [],
   "source": []
  },
  {
   "cell_type": "code",
   "execution_count": null,
   "metadata": {},
   "outputs": [],
   "source": []
  },
  {
   "cell_type": "code",
   "execution_count": null,
   "metadata": {},
   "outputs": [],
   "source": []
  },
  {
   "cell_type": "code",
   "execution_count": null,
   "metadata": {},
   "outputs": [],
   "source": []
  }
 ],
 "metadata": {
  "kernelspec": {
   "display_name": "pt-gpu",
   "language": "python",
   "name": "python3"
  },
  "language_info": {
   "codemirror_mode": {
    "name": "ipython",
    "version": 3
   },
   "file_extension": ".py",
   "mimetype": "text/x-python",
   "name": "python",
   "nbconvert_exporter": "python",
   "pygments_lexer": "ipython3",
   "version": "3.8.16"
  },
  "orig_nbformat": 4,
  "vscode": {
   "interpreter": {
    "hash": "29709d35daaa2ad79abb41e7583830193831e459faa8b3c1007807a0a2b3f075"
   }
  }
 },
 "nbformat": 4,
 "nbformat_minor": 2
}
