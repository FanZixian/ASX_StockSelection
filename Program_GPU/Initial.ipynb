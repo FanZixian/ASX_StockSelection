{
 "cells": [
  {
   "cell_type": "markdown",
   "metadata": {},
   "source": [
    "# Stock Selection Machine learning\n",
    "## Targets: \n",
    "1. Train 4 models to achieve the accuracy target\n",
    "2. Backtesting the models to calculate profits generated both from stock price and dividend yield\n",
    "3. Consider dividend yield during model training, and make a comparison with the previous results"
   ]
  },
  {
   "cell_type": "markdown",
   "metadata": {},
   "source": [
    "## 1. Packages imports and initialization"
   ]
  },
  {
   "cell_type": "code",
   "execution_count": 47,
   "metadata": {},
   "outputs": [],
   "source": [
    "# Basics and visualization\n",
    "import pandas as pd\n",
    "import numpy as np\n",
    "import matplotlib.pyplot as plt\n",
    "from sklearn.pipeline import make_pipeline, Pipeline\n",
    "from numpy import vstack\n",
    "\n",
    "# Data Preprocessing\n",
    "from sklearn.preprocessing import StandardScaler, MinMaxScaler, QuantileTransformer\n",
    "from sklearn.decomposition import PCA\n",
    "import os\n",
    "from sklearn import model_selection\n",
    "\n",
    "# Models to be considered\n",
    "from sklearn import svm\n",
    "from sklearn.svm import SVC\n",
    "from sklearn.ensemble import RandomForestClassifier, RandomForestRegressor\n",
    "import xgboost as xgb\n",
    "\n",
    "# Evaluation\n",
    "from sklearn.model_selection import cross_val_score, GridSearchCV\n",
    "from sklearn.metrics import accuracy_score, f1_score, recall_score, roc_auc_score\n",
    "from sklearn.metrics import mean_squared_error as MSE, r2_score, mean_absolute_error\n",
    "from math import sqrt\n",
    "\n",
    "# Warning ignorance\n",
    "import warnings\n",
    "warnings.filterwarnings(\"ignore\")\n",
    "\n",
    "# GPU packages\n",
    "import cuml\n",
    "from cuml.ensemble import RandomForestRegressor as cumlRandomForestRegressor\n",
    "import cudf\n",
    "import cupy as cp\n"
   ]
  },
  {
   "cell_type": "code",
   "execution_count": 42,
   "metadata": {},
   "outputs": [
    {
     "name": "stdout",
     "output_type": "stream",
     "text": [
      "Folder already exists\n"
     ]
    }
   ],
   "source": [
    "path = \"/mnt/e/NUS_Exchange/Research/Datasets/\"\n",
    "try:\n",
    "    os.mkdir(path + \"Output\")\n",
    "    os.mkdir(path + \"Data\")\n",
    "    os.mkdir(path + \"Output/GridSearchCV_Result\")\n",
    "    os.mkdir(path + \"Output/HoldOutValidation\")\n",
    "except:\n",
    "    print(\"Folder already exists\")"
   ]
  },
  {
   "cell_type": "markdown",
   "metadata": {},
   "source": [
    "## 2. Data Processing"
   ]
  },
  {
   "cell_type": "code",
   "execution_count": 43,
   "metadata": {},
   "outputs": [],
   "source": [
    "# Reading csv files from local repository\n",
    "def readX(pathname):\n",
    "    '''\n",
    "    Read X related file\n",
    "    '''\n",
    "    df = pd.read_csv(pathname, index_col=[0], header=[0])\n",
    "    return df"
   ]
  },
  {
   "cell_type": "markdown",
   "metadata": {},
   "source": [
    "### 2.1 Data loading"
   ]
  },
  {
   "cell_type": "code",
   "execution_count": 44,
   "metadata": {},
   "outputs": [
    {
     "name": "stdout",
     "output_type": "stream",
     "text": [
      "['/mnt/e/NUS_Exchange/Research/Datasets/Data/ASX_stockconsidering/AIA.AX.csv.csv', '/mnt/e/NUS_Exchange/Research/Datasets/Data/ASX_stockconsidering/ALL.AX.csv.csv', '/mnt/e/NUS_Exchange/Research/Datasets/Data/ASX_stockconsidering/AMC.AX.csv.csv', '/mnt/e/NUS_Exchange/Research/Datasets/Data/ASX_stockconsidering/ANZ.AX.csv.csv', '/mnt/e/NUS_Exchange/Research/Datasets/Data/ASX_stockconsidering/APA.AX.csv.csv', '/mnt/e/NUS_Exchange/Research/Datasets/Data/ASX_stockconsidering/ASX.AX.csv.csv', '/mnt/e/NUS_Exchange/Research/Datasets/Data/ASX_stockconsidering/BHP.AX.csv.csv', '/mnt/e/NUS_Exchange/Research/Datasets/Data/ASX_stockconsidering/BXB.AX.csv.csv', '/mnt/e/NUS_Exchange/Research/Datasets/Data/ASX_stockconsidering/CBA.AX.csv.csv', '/mnt/e/NUS_Exchange/Research/Datasets/Data/ASX_stockconsidering/COH.AX.csv.csv', '/mnt/e/NUS_Exchange/Research/Datasets/Data/ASX_stockconsidering/CPU.AX.csv.csv', '/mnt/e/NUS_Exchange/Research/Datasets/Data/ASX_stockconsidering/CSL.AX.csv.csv', '/mnt/e/NUS_Exchange/Research/Datasets/Data/ASX_stockconsidering/FMG.AX.csv.csv', '/mnt/e/NUS_Exchange/Research/Datasets/Data/ASX_stockconsidering/FPH.AX.csv.csv', '/mnt/e/NUS_Exchange/Research/Datasets/Data/ASX_stockconsidering/GMG.AX.csv.csv', '/mnt/e/NUS_Exchange/Research/Datasets/Data/ASX_stockconsidering/IAG.AX.csv.csv', '/mnt/e/NUS_Exchange/Research/Datasets/Data/ASX_stockconsidering/IGO.AX.csv.csv', '/mnt/e/NUS_Exchange/Research/Datasets/Data/ASX_stockconsidering/JHX.AX.csv.csv', '/mnt/e/NUS_Exchange/Research/Datasets/Data/ASX_stockconsidering/MIN.AX.csv.csv', '/mnt/e/NUS_Exchange/Research/Datasets/Data/ASX_stockconsidering/MQG.AX.csv.csv', '/mnt/e/NUS_Exchange/Research/Datasets/Data/ASX_stockconsidering/NAB.AX.csv.csv', '/mnt/e/NUS_Exchange/Research/Datasets/Data/ASX_stockconsidering/NCM.AX.csv.csv', '/mnt/e/NUS_Exchange/Research/Datasets/Data/ASX_stockconsidering/NST.AX.csv.csv', '/mnt/e/NUS_Exchange/Research/Datasets/Data/ASX_stockconsidering/ORG.AX.csv.csv', '/mnt/e/NUS_Exchange/Research/Datasets/Data/ASX_stockconsidering/PLS.AX.csv.csv', '/mnt/e/NUS_Exchange/Research/Datasets/Data/ASX_stockconsidering/QAN.AX.csv.csv', '/mnt/e/NUS_Exchange/Research/Datasets/Data/ASX_stockconsidering/QBE.AX.csv.csv', '/mnt/e/NUS_Exchange/Research/Datasets/Data/ASX_stockconsidering/REA.AX.csv.csv', '/mnt/e/NUS_Exchange/Research/Datasets/Data/ASX_stockconsidering/REH.AX.csv.csv', '/mnt/e/NUS_Exchange/Research/Datasets/Data/ASX_stockconsidering/RHC.AX.csv.csv', '/mnt/e/NUS_Exchange/Research/Datasets/Data/ASX_stockconsidering/RIO.AX.csv.csv', '/mnt/e/NUS_Exchange/Research/Datasets/Data/ASX_stockconsidering/RMD.AX.csv.csv', '/mnt/e/NUS_Exchange/Research/Datasets/Data/ASX_stockconsidering/S32.AX.csv.csv', '/mnt/e/NUS_Exchange/Research/Datasets/Data/ASX_stockconsidering/SCG.AX.csv.csv', '/mnt/e/NUS_Exchange/Research/Datasets/Data/ASX_stockconsidering/SHL.AX.csv.csv', '/mnt/e/NUS_Exchange/Research/Datasets/Data/ASX_stockconsidering/SOL.AX.csv.csv', '/mnt/e/NUS_Exchange/Research/Datasets/Data/ASX_stockconsidering/STO.AX.csv.csv', '/mnt/e/NUS_Exchange/Research/Datasets/Data/ASX_stockconsidering/SUN.AX.csv.csv', '/mnt/e/NUS_Exchange/Research/Datasets/Data/ASX_stockconsidering/TLS.AX.csv.csv', '/mnt/e/NUS_Exchange/Research/Datasets/Data/ASX_stockconsidering/TWE.AX.csv.csv', '/mnt/e/NUS_Exchange/Research/Datasets/Data/ASX_stockconsidering/WBC.AX.csv.csv', '/mnt/e/NUS_Exchange/Research/Datasets/Data/ASX_stockconsidering/WDS.AX.csv.csv', '/mnt/e/NUS_Exchange/Research/Datasets/Data/ASX_stockconsidering/WES.AX.csv.csv', '/mnt/e/NUS_Exchange/Research/Datasets/Data/ASX_stockconsidering/WOW.AX.csv.csv', '/mnt/e/NUS_Exchange/Research/Datasets/Data/ASX_stockconsidering/XRO.AX.csv.csv']\n"
     ]
    }
   ],
   "source": [
    "def list_dir(file_dir):\n",
    "    # list_csv = []\n",
    "    dir_list = os.listdir(file_dir)\n",
    "    for cur_file in dir_list:\n",
    "        path = os.path.join(file_dir,cur_file)\n",
    "        if os.path.isfile(path):\n",
    "            # print(\"{0} : is file!\".format(cur_file))\n",
    "            dir_files = os.path.join(file_dir, cur_file)\n",
    "        if os.path.splitext(path)[1] == '.csv':\n",
    "            csv_file = os.path.join(file_dir, cur_file)\n",
    "            # print(os.path.join(file_dir, cur_file))\n",
    "            # print(csv_file)\n",
    "            list_csv.append(csv_file)\n",
    "        if os.path.isdir(path):\n",
    "            # print(\"{0} : is dir\".format(cur_file))\n",
    "            # print(os.path.join(file_dir, cur_file))\n",
    "            list_dir(path)\n",
    "    return list_csv\n",
    " \n",
    " \n",
    "if __name__ == '__main__':\n",
    "    paths = r'/mnt/e/NUS_Exchange/Research/Datasets/Data/ASX_stockconsidering'\n",
    "    list_csv = []\n",
    "    list_dir(file_dir=paths)\n",
    "    print(list_csv)"
   ]
  },
  {
   "cell_type": "markdown",
   "metadata": {},
   "source": [
    "### 2.2 Stock price data scaling"
   ]
  },
  {
   "cell_type": "markdown",
   "metadata": {},
   "source": [
    "### Use one stock as an example"
   ]
  },
  {
   "cell_type": "code",
   "execution_count": 49,
   "metadata": {},
   "outputs": [
    {
     "data": {
      "text/plain": [
       "<matplotlib.legend.Legend at 0x7f7dd61b5fd0>"
      ]
     },
     "execution_count": 49,
     "metadata": {},
     "output_type": "execute_result"
    },
    {
     "data": {
      "image/png": "[encoded data removed]",
      "text/plain": [
       "<Figure size 1000x600 with 1 Axes>"
      ]
     },
     "metadata": {},
     "output_type": "display_data"
    }
   ],
   "source": [
    "AIA_df = readX(list_csv[0])\n",
    "AIA_df['Date'] = pd.to_datetime(AIA_df.index)\n",
    "AIA_df = AIA_df.set_index(['Date'], drop=True)\n",
    "\n",
    "split_date1 = pd.Timestamp('2017-01-03')\n",
    "split_date2 = pd.Timestamp('2019-11-05')\n",
    "split_date3 = pd.Timestamp('2021-04-09')\n",
    "split_date4 = pd.Timestamp('2021-04-12')\n",
    "split_date5 = pd.Timestamp('2022-09-08')\n",
    "\n",
    "TV_AIA_df = AIA_df.loc[split_date1:split_date3]\n",
    "Test_AIA_df = AIA_df.loc[split_date4:split_date5]\n",
    "\n",
    "TV_AIA_cudf = cudf.from_pandas(TV_AIA_df)\n",
    "Test_AIA_cudf = cudf.from_pandas(Test_AIA_df)\n",
    "\n",
    "# Didn't include dividend and split\n",
    "X_train = TV_AIA_cudf[[\"Volume\", \"OpenClose_spread\", \"Highlow_spread\", \"5_Days_MA\", \"10_Days_MA\", \"15_Days_MA\", \"30_Days_MA\", \"5_Days_VAR\", \"15_Days_VAR\", \"30_Days_VAR\", \n",
    "                        \"15_Days_EWMA\", \"15_Days_RSI\", \"15_Days_MFI\", \"15_Days_ATR\", \"ForceIndex\", \"Typical_MACD\"]]\n",
    "X_train_dividend = TV_AIA_cudf[[\"Dividends\"]]\n",
    "X_test = Test_AIA_cudf[[\"Volume\", \"OpenClose_spread\", \"Highlow_spread\", \"5_Days_MA\", \"10_Days_MA\", \"15_Days_MA\", \"30_Days_MA\", \"5_Days_VAR\", \"15_Days_VAR\", \"30_Days_VAR\", \n",
    "                        \"15_Days_EWMA\", \"15_Days_RSI\", \"15_Days_MFI\", \"15_Days_ATR\", \"ForceIndex\", \"Typical_MACD\"]]\n",
    "X_test_dividend = Test_AIA_cudf[[\"Dividends\"]]\n",
    "Y_train = TV_AIA_df[[\"Price\"]]\n",
    "Y_test = Test_AIA_df[[\"Price\"]]\n",
    "\n",
    "plt.figure(figsize=(10, 6))\n",
    "ax = Y_train['Price'].plot()\n",
    "Y_test['Price'].plot(ax=ax)\n",
    "plt.legend(['train', 'validation'])"
   ]
  },
  {
   "cell_type": "code",
   "execution_count": 50,
   "metadata": {},
   "outputs": [],
   "source": [
    "scales = [StandardScaler(), MinMaxScaler(), QuantileTransformer()]"
   ]
  },
  {
   "cell_type": "markdown",
   "metadata": {},
   "source": [
    "## 3. Test and Criteria"
   ]
  },
  {
   "cell_type": "code",
   "execution_count": 51,
   "metadata": {},
   "outputs": [],
   "source": [
    "def getScore(pipe_lr, X_valid, y_valid, prob = False):\n",
    "    '''\n",
    "    Get ROC\n",
    "    '''\n",
    "    y_pred = pipe_lr.predict(X_valid)\n",
    "    if prob:\n",
    "        y_pred = pipe_lr.predict_proba(X_valid)[:,1]\n",
    "    print('ROC: %.4f' % roc_auc_score(y_true=y_valid, y_score=y_pred))\n",
    "\n",
    "def evaluate_model(test_dl, model):\n",
    "    predictions, actuals = list(), list()\n",
    "    for i, (inputs, targets) in enumerate(test_dl):\n",
    "        # evaluate the model on the test set\n",
    "        yhat = model(inputs)\n",
    "        # retrieve numpy array\n",
    "        yhat = yhat.detach().numpy()\n",
    "        actual = targets.numpy()\n",
    "        actual = actual.reshape((len(actual), 1))\n",
    "        # store\n",
    "        predictions.append(yhat)\n",
    "        actuals.append(actual)\n",
    "    predictions, actuals = vstack(predictions), vstack(actuals)\n",
    "    # calculate mse\n",
    "    mse = MSE(actuals, predictions)\n",
    "    return mse\n",
    "\n",
    "def getPrediction_ANN(predict_dl, model):\n",
    "    predictions = list()\n",
    "    for i, (inputs, targets) in enumerate(predict_dl):\n",
    "        # evaluate the model on the test set\n",
    "        yhat = model(inputs)\n",
    "        # retrieve numpy array\n",
    "        yhat = yhat.detach().numpy()\n",
    "        predictions.append(yhat)\n",
    "    predictions = vstack(predictions)\n",
    "    \n",
    "    return cudf.DataFrame(data=predictions)\n",
    "\n"
   ]
  },
  {
   "cell_type": "markdown",
   "metadata": {},
   "source": [
    "Rolling windows"
   ]
  },
  {
   "cell_type": "code",
   "execution_count": 86,
   "metadata": {},
   "outputs": [],
   "source": [
    "model_mse = []\n",
    "Totaldatas = 720\n",
    "Window = 30\n",
    "Rollingtimes = 12\n",
    "\n",
    "def RollingTrain(X_train, Y_train, times, selectedModel, scale):\n",
    "    X1 = X_train[Window * times : Totaldatas + Window * times].values\n",
    "    Y1 = Y_train[Window * times : Totaldatas + Window * times].values\n",
    "    X1_ = X_train[Totaldatas + Window * times : Totaldatas + Window * (times + 1)].values\n",
    "    Y1_ = Y_train[Totaldatas + Window * times : Totaldatas + Window * (times + 1)].values\n",
    "\n",
    "    scaler = scale.fit(X1.get())\n",
    "    X1_scaled = scaler.transform(X1.get())\n",
    "    X1__scaled = scaler.fit_transform(X1_.get())\n",
    "    model = selectedModel.fit(X1_scaled, Y1)\n",
    "    prediction = model.predict(X1__scaled)\n",
    "    mse = MSE(Y1_, prediction)\n",
    "    model_mse.append(mse)\n",
    "\n",
    "def TrainRolling(Rollingtimes, selectedModel, scale):\n",
    "    for i in range(0, Rollingtimes):\n",
    "        RollingTrain(X_train, Y_train, i, selectedModel, scale)\n",
    "    return sum(model_mse) / len(model_mse)\n"
   ]
  },
  {
   "cell_type": "markdown",
   "metadata": {},
   "source": [
    "## 4. Random Forest"
   ]
  },
  {
   "cell_type": "markdown",
   "metadata": {},
   "source": [
    "### 4.1 Parameters to be considered"
   ]
  },
  {
   "cell_type": "code",
   "execution_count": 89,
   "metadata": {},
   "outputs": [],
   "source": [
    "rf_n_estimators = [50, 100, 400, 800]\n",
    "rf_max_depth = [50, 100, 400, 1000]\n",
    "rf_max_leaves = [1000, 500, 200, 100]\n",
    "rf_min_samples_split = [2, 10, 20, 50]\n",
    "rf_n_bins = [32, 128, 512]"
   ]
  },
  {
   "cell_type": "code",
   "execution_count": 92,
   "metadata": {},
   "outputs": [],
   "source": [
    "rf_parameters = []\n",
    "def RandomForestTraining():\n",
    "    averageMSE = []\n",
    "    i = 0\n",
    "    for n_estimators in rf_n_estimators:\n",
    "        for max_depth in rf_max_depth:\n",
    "            for max_leaves in rf_max_leaves:\n",
    "                for min_samples_split in rf_min_samples_split:\n",
    "                    for n_bins in rf_n_bins:\n",
    "                        for scaler in scales:\n",
    "                            rf = cumlRandomForestRegressor(n_estimators = n_estimators, max_depth = max_depth, max_leaves = max_leaves, min_samples_split = min_samples_split, n_bins = n_bins)\n",
    "                            calculatedmse = TrainRolling(Rollingtimes, rf, scaler)\n",
    "                            averageMSE.append(calculatedmse)\n",
    "                            rf_parameters.append([\"rf_n_estimators: \", n_estimators, \"; rf_max_depth:\", max_depth, \"; rf_max_leaf_nodes: \", max_leaves, \"; rf_min_samples_split: \", \n",
    "                                                min_samples_split, \"; rf_n_bins: \", n_bins, \"; scaler: \", scaler])\n",
    "                            print(i, calculatedmse)\n",
    "                            i += 1\n",
    "    return averageMSE"
   ]
  },
  {
   "cell_type": "code",
   "execution_count": 93,
   "metadata": {},
   "outputs": [
    {
     "name": "stdout",
     "output_type": "stream",
     "text": [
      "0 1.7944626833049688\n",
      "1 1.7936728831239879\n",
      "2 1.7943656800551955\n",
      "3 1.7943796112430135\n",
      "4 1.793687952055826\n",
      "5 1.7944944622322148\n",
      "6 1.794538206651636\n",
      "7 1.793772892716112\n"
     ]
    }
   ],
   "source": [
    "x = RandomForestTraining()"
   ]
  },
  {
   "cell_type": "code",
   "execution_count": null,
   "metadata": {},
   "outputs": [],
   "source": []
  },
  {
   "cell_type": "code",
   "execution_count": null,
   "metadata": {},
   "outputs": [],
   "source": []
  },
  {
   "cell_type": "code",
   "execution_count": null,
   "metadata": {},
   "outputs": [],
   "source": []
  },
  {
   "cell_type": "code",
   "execution_count": null,
   "metadata": {},
   "outputs": [],
   "source": []
  },
  {
   "cell_type": "code",
   "execution_count": null,
   "metadata": {},
   "outputs": [],
   "source": []
  },
  {
   "cell_type": "code",
   "execution_count": null,
   "metadata": {},
   "outputs": [],
   "source": []
  },
  {
   "cell_type": "code",
   "execution_count": null,
   "metadata": {},
   "outputs": [],
   "source": []
  },
  {
   "cell_type": "code",
   "execution_count": null,
   "metadata": {},
   "outputs": [],
   "source": []
  },
  {
   "cell_type": "code",
   "execution_count": null,
   "metadata": {},
   "outputs": [],
   "source": []
  },
  {
   "cell_type": "code",
   "execution_count": null,
   "metadata": {},
   "outputs": [],
   "source": []
  }
 ],
 "metadata": {
  "kernelspec": {
   "display_name": "pt-gpu",
   "language": "python",
   "name": "python3"
  },
  "language_info": {
   "codemirror_mode": {
    "name": "ipython",
    "version": 3
   },
   "file_extension": ".py",
   "mimetype": "text/x-python",
   "name": "python",
   "nbconvert_exporter": "python",
   "pygments_lexer": "ipython3",
   "version": "3.8.16"
  },
  "vscode": {
   "interpreter": {
    "hash": "29709d35daaa2ad79abb41e7583830193831e459faa8b3c1007807a0a2b3f075"
   }
  }
 },
 "nbformat": 4,
 "nbformat_minor": 2
}
